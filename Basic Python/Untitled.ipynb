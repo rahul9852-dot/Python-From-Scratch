{
 "cells": [
  {
   "cell_type": "markdown",
   "metadata": {},
   "source": [
    "# Python Introduction\n",
    "\n",
    "## What is Python\n",
    "\n",
    "<p>Python is popular programming language.it was created by Guido van Rossum, and relesed in 1991.</p>\n",
    "\n",
    "It is used for:\n",
    "* web development (server-side)\n",
    "* Software development\n",
    "* Mathematics\n",
    "* System scripting\n",
    "\n",
    "\n",
    "   \n",
    "\n",
    "## What can Python do?\n",
    "\n",
    "   * Python can be used on server to create web applications.\n",
    "   * Python can be used alongside software to create workflows.\n",
    "   * Python can connect to database systems. It can also read and modify files.\n",
    "   * Python can be used to handle big Data and perform Complex mathematics.\n",
    "   * Python can be used for rapid prototyping, or for production-ready software development.\n",
    " \n",
    "## Why Python?\n",
    "   * Python works on different platforms (windows,Mac,Linux,Rasberry pi,etc).\n",
    "   * Python has a simple syntax similar to the English Language.\n",
    "   * Python runs an interpreter system, meaning that code can be executed as soon as it is written. This means that prototyping can be very quick.\n",
    "   * Python can be treated a procedural way, an object-oriented way or a functional way.\n",
    "\n",
    "## Python Syntax compared to other Programming Languages\n",
    "\n",
    "   * Python was designed for readability, and has some similarities to the English language with influence from mathematics.\n",
    "   * Python uses new lines to complete a command, as opposed to other programming languages which often use semicolons or parentheses.\n",
    "   * Python relies on identation,using whitespace,to define scope; such as the scope of loops,functions and classes. Other programming languages often use curly-brackets for this purpose."
   ]
  },
  {
   "cell_type": "code",
   "execution_count": 3,
   "metadata": {},
   "outputs": [
    {
     "name": "stdout",
     "output_type": "stream",
     "text": [
      "Hello,World!\n"
     ]
    }
   ],
   "source": [
    "print(\"Hello,World!\")"
   ]
  },
  {
   "cell_type": "markdown",
   "metadata": {},
   "source": [
    "* hello"
   ]
  },
  {
   "cell_type": "code",
   "execution_count": null,
   "metadata": {},
   "outputs": [],
   "source": []
  }
 ],
 "metadata": {
  "kernelspec": {
   "display_name": "Python 3.8.4 32-bit",
   "language": "python",
   "name": "python38432bit2b01fcb3afc44c26a346b95b8b15a056"
  },
  "language_info": {
   "codemirror_mode": {
    "name": "ipython",
    "version": 3
   },
   "file_extension": ".py",
   "mimetype": "text/x-python",
   "name": "python",
   "nbconvert_exporter": "python",
   "pygments_lexer": "ipython3",
   "version": "3.8.4"
  }
 },
 "nbformat": 4,
 "nbformat_minor": 4
}
